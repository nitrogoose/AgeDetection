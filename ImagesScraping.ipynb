{
  "nbformat": 4,
  "nbformat_minor": 0,
  "metadata": {
    "colab": {
      "provenance": [],
      "authorship_tag": "ABX9TyOpzhI8mUb7fLfrGD2sanik",
      "include_colab_link": true
    },
    "kernelspec": {
      "name": "python3",
      "display_name": "Python 3"
    },
    "language_info": {
      "name": "python"
    }
  },
  "cells": [
    {
      "cell_type": "markdown",
      "metadata": {
        "id": "view-in-github",
        "colab_type": "text"
      },
      "source": [
        "<a href=\"https://colab.research.google.com/github/nitrogoose/AgeDetection/blob/main/ImagesScraping.ipynb\" target=\"_parent\"><img src=\"https://colab.research.google.com/assets/colab-badge.svg\" alt=\"Open In Colab\"/></a>"
      ]
    },
    {
      "cell_type": "code",
      "execution_count": null,
      "metadata": {
        "colab": {
          "base_uri": "https://localhost:8080/"
        },
        "id": "r903Tto5Y4Gv",
        "outputId": "3d0559eb-43c4-4032-f4c7-834e627095f8"
      },
      "outputs": [
        {
          "output_type": "stream",
          "name": "stdout",
          "text": [
            "Requirement already satisfied: requests in /usr/local/lib/python3.10/dist-packages (2.32.3)\n",
            "Requirement already satisfied: beautifulsoup4 in /usr/local/lib/python3.10/dist-packages (4.12.3)\n",
            "Requirement already satisfied: pillow in /usr/local/lib/python3.10/dist-packages (10.4.0)\n",
            "Requirement already satisfied: charset-normalizer<4,>=2 in /usr/local/lib/python3.10/dist-packages (from requests) (3.4.0)\n",
            "Requirement already satisfied: idna<4,>=2.5 in /usr/local/lib/python3.10/dist-packages (from requests) (3.10)\n",
            "Requirement already satisfied: urllib3<3,>=1.21.1 in /usr/local/lib/python3.10/dist-packages (from requests) (2.2.3)\n",
            "Requirement already satisfied: certifi>=2017.4.17 in /usr/local/lib/python3.10/dist-packages (from requests) (2024.8.30)\n",
            "Requirement already satisfied: soupsieve>1.2 in /usr/local/lib/python3.10/dist-packages (from beautifulsoup4) (2.6)\n"
          ]
        }
      ],
      "source": [
        "!pip install requests beautifulsoup4 pillow\n",
        "\n"
      ]
    },
    {
      "cell_type": "code",
      "source": [
        "import os\n",
        "import requests\n",
        "from bs4 import BeautifulSoup\n",
        "from urllib.parse import urljoin\n",
        "from zipfile import ZipFile\n",
        "from google.colab import files  # Import files module from Colab\n",
        "import shutil  # To help remove the folder contents\n",
        "\n",
        "# Function to clear the folder contents\n",
        "def clear_folder(folder_path):\n",
        "    if os.path.exists(folder_path):\n",
        "        shutil.rmtree(folder_path)  # Remove the entire folder and its contents\n",
        "    os.makedirs(folder_path)  # Create an empty folder\n",
        "\n",
        "# Function to download an image\n",
        "def download_image(url, folder_path):\n",
        "    try:\n",
        "        response = requests.get(url)\n",
        "        if response.status_code == 200:\n",
        "            # Get the image name from the URL\n",
        "            image_name = url.split(\"/\")[-1]\n",
        "            image_path = os.path.join(folder_path, image_name)\n",
        "            # Write the image to a file\n",
        "            with open(image_path, \"wb\") as file:\n",
        "                file.write(response.content)\n",
        "            print(f\"Downloaded {image_name}\")\n",
        "        else:\n",
        "            print(f\"Failed to retrieve {url}\")\n",
        "    except Exception as e:\n",
        "        print(f\"Error downloading {url}: {e}\")\n",
        "\n",
        "# Function to scrape images from a webpage and save them in a folder\n",
        "def scrape_images_from_website(url, folder_path=\"downloaded_images\"):\n",
        "    # Clear the folder before scraping\n",
        "    clear_folder(folder_path)\n",
        "\n",
        "    # Send a GET request to the website\n",
        "    response = requests.get(url)\n",
        "    soup = BeautifulSoup(response.content, \"html.parser\")\n",
        "\n",
        "    # Find all image tags in the HTML content\n",
        "    img_tags = soup.find_all(\"img\")\n",
        "\n",
        "    # Extract image URLs and download them\n",
        "    for img_tag in img_tags:\n",
        "        img_url = img_tag.get(\"src\")\n",
        "        if img_url:\n",
        "            # If the image URL is relative, make it absolute\n",
        "            img_url = urljoin(url, img_url)\n",
        "            download_image(img_url, folder_path)\n",
        "\n",
        "    # Zip the folder for easy downloading\n",
        "    zip_file_name = f\"{folder_path}.zip\"\n",
        "    with ZipFile(zip_file_name, 'w') as zipf:\n",
        "        for root, _, files_list in os.walk(folder_path):\n",
        "            for file in files_list:\n",
        "                zipf.write(os.path.join(root, file), os.path.relpath(os.path.join(root, file), folder_path))\n",
        "    print(f\"All images have been saved and zipped in {zip_file_name}\")\n",
        "\n",
        "    # Download the zip file to the local computer\n",
        "    files.download(zip_file_name)\n",
        "\n",
        "# Example usage\n",
        "website_url = \"https://www.google.com/search?sca_esv=65c381cf0e3fbdc7&rlz=1C1UEAD_enIN1092IN1092&q=baby+naked+human&udm=2&fbs=AEQNm0A633aOWMcGwo5EkodWqZWQxPIwflRJ4Hu3ORx2YNN2hMyLXvg7YutBzzEkH5jrqRZVNqsK5Bw5ddbAfF-taybgSSQV7ogjWSUk63vkbvL-w-2sTerjJ7a1qtv8zFo28s-nc22keo6muysMGbl8BCfSSXh3FGk1ZY3eeYssKJviJNVvetGnAw9RLPW_1hjO4UjKh9TyvNHuCY5y8W_08ktHQZ8ciA&sa=X&ved=2ahUKEwjW--SkvMmJAxUl3TgGHWLQL3gQtKgLegQIEhAB&biw=1475&bih=661&dpr=1.3\"  # Replace with the URL of the website you want to scrape\n",
        "scrape_images_from_website(website_url)\n",
        "\n",
        "\n"
      ],
      "metadata": {
        "colab": {
          "base_uri": "https://localhost:8080/",
          "height": 399
        },
        "id": "Pmpq01mkpav3",
        "outputId": "e1336675-1d69-4acd-a211-ef30e4cbb795"
      },
      "execution_count": null,
      "outputs": [
        {
          "output_type": "stream",
          "name": "stdout",
          "text": [
            "Downloaded googlelogo_desk_heirloom_color_150x55dp.gif\n",
            "Downloaded images?q=tbn:ANd9GcSlhWjJ-Rn6095VTEHlYXCAcnAPPa29KPSlZM-6pT8NpZ4WPqKoOxbHg8DnMw&s\n",
            "Downloaded images?q=tbn:ANd9GcRTNsSCX51CIOrv3OlKX-5LpON45DuZWeMGaM7u9cfqBOFIc5n5CgaaM9X1Lw&s\n",
            "Downloaded images?q=tbn:ANd9GcRbPGlSFc3tyw2KR-yKiyxBDvBSQAlx-nm13RDQdnCjxWLiyhXuGonEp-nc_o8&s\n",
            "Downloaded images?q=tbn:ANd9GcR2FirMLlnyruFEecqxvTsfPeQBvx4ARTPNCqvxh6Qnp72l7JErqT7Nqimkvw&s\n",
            "Downloaded images?q=tbn:ANd9GcQJmqM4iGDXGvrXmkOn86uoQH49SAqAFF-Uj9AVRQhr5XpPy8RBVMFD03qNx6c&s\n",
            "Downloaded images?q=tbn:ANd9GcSQhCt1bAO8jClqjWzacKVjXgLYWCkqSOmGDTVBDX_JnCRC0w9AmRfuB4ljeQ&s\n",
            "Downloaded images?q=tbn:ANd9GcRPmqyiNo9Qd9wWp-z3Qs4VOtCXryt0FiIAXfa3mYAX7WozvImwpOVL5ebqRQ&s\n",
            "Downloaded images?q=tbn:ANd9GcQHhwxZ0QMEfLCteEPrqBiOfcOR4K8BiLeHASGHlvt1uXGkqdik7DHYZGBSKCA&s\n",
            "Downloaded images?q=tbn:ANd9GcQZR-28c875oebSZAd1MkGGZD0NUH3j6kVeLtfzI0GWuqlNxLBVpv9wrpm0Ew&s\n",
            "Downloaded images?q=tbn:ANd9GcTsuu4jae7j0kF0i3e0yBnSnUFRETbhd2Lus3w3WEhgrtZcikUXZjPELgUCzA&s\n",
            "Downloaded images?q=tbn:ANd9GcS9DQgD848DHO9CH3xFJ0js9TM4EsO9hWawHoQDnW4oDljKmEn9CP0XZIC3Lz4&s\n",
            "Downloaded images?q=tbn:ANd9GcRx8SjCKOlwH-fB_A1-jjN08SFtGsTRpoHBK7-WWjhlgmLLMwI4wBOK6cWlKw&s\n",
            "Downloaded images?q=tbn:ANd9GcR5UqCllAvSvOM1qUI-YEQy3JlAHL4UOiVI9GYN7-H-36PLyTtzrj2l-h0-2HU&s\n",
            "Downloaded images?q=tbn:ANd9GcQ1IgLDXR-jCNQzzCTApyCKELcQqMhTsL678WaaDCLGZqB6qswUbwguDzSGVxg&s\n",
            "Downloaded images?q=tbn:ANd9GcQWXa75t9qtBuQu_LcLHd6SnXabRCUyjpBAShor3L1b5ZlhEQpc4nwdMzHV0A&s\n",
            "Downloaded images?q=tbn:ANd9GcTKhlndSsFQpJI0QSBL0kc_V5gfsnJygid4Rw_1bMm5pJkyRtrOA_sGpCUESQ&s\n",
            "Downloaded images?q=tbn:ANd9GcRaEqfkEx7NbZIPuRxg11doOcq7L-tGsILWZrCFSkHlloO_q3PV3Zv3vL-t1Q&s\n",
            "Downloaded images?q=tbn:ANd9GcQiDlIt9wiPmoIQXNg6WUYHicHiUGPYtJxmvvljDqsFmdi1ElZNnpVZEsUCdZM&s\n",
            "Downloaded images?q=tbn:ANd9GcTYyVEEsIAci5E7V9vDZvrxDgfArRLODmOAh7M_jq3q9y16OMmkhAmGSFcicg&s\n",
            "Downloaded images?q=tbn:ANd9GcQNLuXNgMdMFoLPznKN28MiOQplsP0jU9hytjyiZs-d_srWEXrWLoskmuMMHg&s\n",
            "All images have been saved and zipped in downloaded_images.zip\n"
          ]
        },
        {
          "output_type": "display_data",
          "data": {
            "text/plain": [
              "<IPython.core.display.Javascript object>"
            ],
            "application/javascript": [
              "\n",
              "    async function download(id, filename, size) {\n",
              "      if (!google.colab.kernel.accessAllowed) {\n",
              "        return;\n",
              "      }\n",
              "      const div = document.createElement('div');\n",
              "      const label = document.createElement('label');\n",
              "      label.textContent = `Downloading \"${filename}\": `;\n",
              "      div.appendChild(label);\n",
              "      const progress = document.createElement('progress');\n",
              "      progress.max = size;\n",
              "      div.appendChild(progress);\n",
              "      document.body.appendChild(div);\n",
              "\n",
              "      const buffers = [];\n",
              "      let downloaded = 0;\n",
              "\n",
              "      const channel = await google.colab.kernel.comms.open(id);\n",
              "      // Send a message to notify the kernel that we're ready.\n",
              "      channel.send({})\n",
              "\n",
              "      for await (const message of channel.messages) {\n",
              "        // Send a message to notify the kernel that we're ready.\n",
              "        channel.send({})\n",
              "        if (message.buffers) {\n",
              "          for (const buffer of message.buffers) {\n",
              "            buffers.push(buffer);\n",
              "            downloaded += buffer.byteLength;\n",
              "            progress.value = downloaded;\n",
              "          }\n",
              "        }\n",
              "      }\n",
              "      const blob = new Blob(buffers, {type: 'application/binary'});\n",
              "      const a = document.createElement('a');\n",
              "      a.href = window.URL.createObjectURL(blob);\n",
              "      a.download = filename;\n",
              "      div.appendChild(a);\n",
              "      a.click();\n",
              "      div.remove();\n",
              "    }\n",
              "  "
            ]
          },
          "metadata": {}
        },
        {
          "output_type": "display_data",
          "data": {
            "text/plain": [
              "<IPython.core.display.Javascript object>"
            ],
            "application/javascript": [
              "download(\"download_80795b8a-d10e-4f5b-9666-169aa348b65e\", \"downloaded_images.zip\", 70273)"
            ]
          },
          "metadata": {}
        }
      ]
    }
  ]
}